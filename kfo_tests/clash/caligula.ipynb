{
 "cells": [
  {
   "cell_type": "code",
   "execution_count": 1,
   "metadata": {},
   "outputs": [
    {
     "name": "stdout",
     "output_type": "stream",
     "text": [
      "['time', 'band', 'flux', 'fluxerr', 'mag', 'magerr', 'zpsys', 'zp']\n"
     ]
    }
   ],
   "source": [
    "from starDust2 import classify\n",
    "\n",
    "import pickle\n",
    "import os \n",
    "\n",
    "__current_dir = os.path.curdir\n",
    "\n",
    "clashlc = pickle.load(open(__current_dir+'/../../kfo_hstlc/clashlc.pkl','rb'))\n",
    "caligula = clashlc[2]\n",
    "caligula.meta\n",
    "print(caligula.colnames)"
   ]
  },
  {
   "cell_type": "code",
   "execution_count": null,
   "metadata": {},
   "outputs": [
    {
     "name": "stderr",
     "output_type": "stream",
     "text": [
      "/Users/kyleoconnor/anaconda2/envs/sd2/lib/python3.7/site-packages/sncosmo/fitting.py:158: RuntimeWarning: Dropping following bands from data: f350lp(out of model wavelength range)\n",
      "  \"(out of model wavelength range)\", RuntimeWarning)\n",
      "/Users/kyleoconnor/anaconda2/envs/sd2/lib/python3.7/site-packages/sncosmo/fitting.py:158: RuntimeWarning: Dropping following bands from data: f350lp(out of model wavelength range)\n",
      "  \"(out of model wavelength range)\", RuntimeWarning)\n",
      "/Users/kyleoconnor/anaconda2/envs/sd2/lib/python3.7/site-packages/sncosmo/fitting.py:158: RuntimeWarning: Dropping following bands from data: f350lp(out of model wavelength range)\n",
      "  \"(out of model wavelength range)\", RuntimeWarning)\n",
      "/Users/kyleoconnor/anaconda2/envs/sd2/lib/python3.7/site-packages/sncosmo/fitting.py:158: RuntimeWarning: Dropping following bands from data: f350lp(out of model wavelength range)\n",
      "  \"(out of model wavelength range)\", RuntimeWarning)\n",
      "/Users/kyleoconnor/anaconda2/envs/sd2/lib/python3.7/site-packages/sncosmo/fitting.py:158: RuntimeWarning: Dropping following bands from data: f350lp(out of model wavelength range)\n",
      "  \"(out of model wavelength range)\", RuntimeWarning)\n",
      "/Users/kyleoconnor/anaconda2/envs/sd2/lib/python3.7/site-packages/sncosmo/fitting.py:158: RuntimeWarning: Dropping following bands from data: f350lp(out of model wavelength range)\n",
      "  \"(out of model wavelength range)\", RuntimeWarning)\n",
      "/Users/kyleoconnor/anaconda2/envs/sd2/lib/python3.7/site-packages/sncosmo/fitting.py:158: RuntimeWarning: Dropping following bands from data: f350lp(out of model wavelength range)\n",
      "  \"(out of model wavelength range)\", RuntimeWarning)\n",
      "/Users/kyleoconnor/anaconda2/envs/sd2/lib/python3.7/site-packages/sncosmo/fitting.py:158: RuntimeWarning: Dropping following bands from data: f350lp(out of model wavelength range)\n",
      "  \"(out of model wavelength range)\", RuntimeWarning)\n",
      "/Users/kyleoconnor/anaconda2/envs/sd2/lib/python3.7/site-packages/sncosmo/fitting.py:158: RuntimeWarning: Dropping following bands from data: f350lp(out of model wavelength range)\n",
      "  \"(out of model wavelength range)\", RuntimeWarning)\n",
      "/Users/kyleoconnor/anaconda2/envs/sd2/lib/python3.7/site-packages/sncosmo/fitting.py:158: RuntimeWarning: Dropping following bands from data: f350lp(out of model wavelength range)\n",
      "  \"(out of model wavelength range)\", RuntimeWarning)\n",
      "/Users/kyleoconnor/anaconda2/envs/sd2/lib/python3.7/site-packages/sncosmo/fitting.py:158: RuntimeWarning: Dropping following bands from data: f350lp(out of model wavelength range)\n",
      "  \"(out of model wavelength range)\", RuntimeWarning)\n",
      "/Users/kyleoconnor/anaconda2/envs/sd2/lib/python3.7/site-packages/sncosmo/fitting.py:158: RuntimeWarning: Dropping following bands from data: f350lp(out of model wavelength range)\n",
      "  \"(out of model wavelength range)\", RuntimeWarning)\n"
     ]
    },
    {
     "name": "stdout",
     "output_type": "stream",
     "text": [
      "{'z': <function get_evidence.<locals>.zprior at 0x12288fbf8>, 'rv': <function get_evidence.<locals>.rvprior at 0x12288ff28>}\n",
      "Had to remove object priorfn from return dictionary, as it was not pickleable.\n",
      "{'z': <function get_evidence.<locals>.zprior at 0x12288fbf8>, 'rv': <function get_evidence.<locals>.rvprior at 0x12288ff28>}\n",
      "Had to remove object priorfn from return dictionary, as it was not pickleable.\n",
      "{'z': <function get_evidence.<locals>.zprior at 0x12288fbf8>, 'rv': <function get_evidence.<locals>.rvprior at 0x12288ff28>}\n",
      "Had to remove object priorfn from return dictionary, as it was not pickleable.\n",
      "{'z': <function get_evidence.<locals>.zprior at 0x12288fbf8>, 'rv': <function get_evidence.<locals>.rvprior at 0x12288ff28>}\n",
      "Had to remove object priorfn from return dictionary, as it was not pickleable.\n",
      "{'z': <function get_evidence.<locals>.zprior at 0x12288fbf8>, 'rv': <function get_evidence.<locals>.rvprior at 0x12288ff28>}\n",
      "Had to remove object priorfn from return dictionary, as it was not pickleable.\n",
      "{'z': <function get_evidence.<locals>.zprior at 0x12288fbf8>, 'rv': <function get_evidence.<locals>.rvprior at 0x12288ff28>}\n",
      "Had to remove object priorfn from return dictionary, as it was not pickleable.\n",
      "{'z': <function get_evidence.<locals>.zprior at 0x12288fbf8>, 'rv': <function get_evidence.<locals>.rvprior at 0x12288ff28>}\n",
      "Had to remove object priorfn from return dictionary, as it was not pickleable.\n",
      "{'z': <function get_evidence.<locals>.zprior at 0x12288fbf8>, 'rv': <function get_evidence.<locals>.rvprior at 0x12288ff28>}\n",
      "Had to remove object priorfn from return dictionary, as it was not pickleable.\n",
      "{'z': <function get_evidence.<locals>.zprior at 0x12288fbf8>, 'rv': <function get_evidence.<locals>.rvprior at 0x12288ff28>}\n",
      "Had to remove object priorfn from return dictionary, as it was not pickleable.\n",
      "{'z': <function get_evidence.<locals>.zprior at 0x1228af0d0>, 'rv': <function get_evidence.<locals>.rvprior at 0x1228a5730>}\n",
      "Had to remove object priorfn from return dictionary, as it was not pickleable.\n",
      "{'z': <function get_evidence.<locals>.zprior at 0x12288fbf8>, 'rv': <function get_evidence.<locals>.rvprior at 0x12288ff28>}\n",
      "Had to remove object priorfn from return dictionary, as it was not pickleable.\n",
      "{'z': <function get_evidence.<locals>.zprior at 0x1228af0d0>, 'rv': <function get_evidence.<locals>.rvprior at 0x1228a5730>}\n",
      "Had to remove object priorfn from return dictionary, as it was not pickleable.\n",
      "{'z': <function get_evidence.<locals>.zprior at 0x1228af0d0>, 'rv': <function get_evidence.<locals>.rvprior at 0x1228a5730>}\n",
      "{'z': <function get_evidence.<locals>.zprior at 0x1228af0d0>, 'rv': <function get_evidence.<locals>.rvprior at 0x1228a5730>}\n",
      "Had to remove object priorfn from return dictionary, as it was not pickleable.\n",
      "Had to remove object priorfn from return dictionary, as it was not pickleable.\n",
      "{'z': <function get_evidence.<locals>.zprior at 0x1228af0d0>, 'rv': <function get_evidence.<locals>.rvprior at 0x1228a5730>}\n",
      "Had to remove object priorfn from return dictionary, as it was not pickleable.\n",
      "{'z': <function get_evidence.<locals>.zprior at 0x1228af0d0>, 'rv': <function get_evidence.<locals>.rvprior at 0x1228a5730>}\n",
      "Had to remove object priorfn from return dictionary, as it was not pickleable.\n",
      "{'z': <function get_evidence.<locals>.zprior at 0x1228af0d0>, 'rv': <function get_evidence.<locals>.rvprior at 0x1228a5730>}\n",
      "Had to remove object priorfn from return dictionary, as it was not pickleable.\n",
      "{'z': <function get_evidence.<locals>.zprior at 0x1228af0d0>, 'rv': <function get_evidence.<locals>.rvprior at 0x1228a5730>}\n",
      "Had to remove object priorfn from return dictionary, as it was not pickleable.\n",
      "{'z': <function get_evidence.<locals>.zprior at 0x1228af0d0>, 'rv': <function get_evidence.<locals>.rvprior at 0x1228a5730>}\n",
      "Had to remove object priorfn from return dictionary, as it was not pickleable.\n",
      "{'z': <function get_evidence.<locals>.zprior at 0x1228af0d0>, 'rv': <function get_evidence.<locals>.rvprior at 0x1228a5c80>}\n",
      "Had to remove object priorfn from return dictionary, as it was not pickleable.\n",
      "{'z': <function get_evidence.<locals>.zprior at 0x1228af0d0>, 'rv': <function get_evidence.<locals>.rvprior at 0x1228a5730>}\n",
      "Had to remove object priorfn from return dictionary, as it was not pickleable.\n",
      "{'z': <function get_evidence.<locals>.zprior at 0x1228af0d0>, 'rv': <function get_evidence.<locals>.rvprior at 0x1228a5d90>}\n",
      "Had to remove object priorfn from return dictionary, as it was not pickleable.\n",
      "{'z': <function get_evidence.<locals>.zprior at 0x1228af0d0>, 'rv': <function get_evidence.<locals>.rvprior at 0x1228a5c80>}\n",
      "Had to remove object priorfn from return dictionary, as it was not pickleable.\n",
      "{'z': <function get_evidence.<locals>.zprior at 0x1228af0d0>, 'rv': <function get_evidence.<locals>.rvprior at 0x1228a5c80>}\n",
      "Had to remove object priorfn from return dictionary, as it was not pickleable.\n",
      "{'z': <function get_evidence.<locals>.zprior at 0x1228af0d0>, 'rv': <function get_evidence.<locals>.rvprior at 0x1228a5d90>}\n",
      "Had to remove object priorfn from return dictionary, as it was not pickleable.\n",
      "{'z': <function get_evidence.<locals>.zprior at 0x12288fbf8>, 'rv': <function get_evidence.<locals>.rvprior at 0x12288ff28>}\n",
      "Had to remove object priorfn from return dictionary, as it was not pickleable.\n",
      "{'z': <function get_evidence.<locals>.zprior at 0x1228af0d0>, 'rv': <function get_evidence.<locals>.rvprior at 0x1228a5d90>}\n",
      "Had to remove object priorfn from return dictionary, as it was not pickleable.\n",
      "{'z': <function get_evidence.<locals>.zprior at 0x1228af0d0>, 'rv': <function get_evidence.<locals>.rvprior at 0x1228a5d90>}\n",
      "Had to remove object priorfn from return dictionary, as it was not pickleable.\n",
      "Some serious problem with snana-2007ny, skipping...\n",
      "{'z': <function get_evidence.<locals>.zprior at 0x1228af0d0>, 'rv': <function get_evidence.<locals>.rvprior at 0x1228a5d90>}\n",
      "Had to remove object priorfn from return dictionary, as it was not pickleable.\n",
      "{'z': <function get_evidence.<locals>.zprior at 0x1228af0d0>, 'rv': <function get_evidence.<locals>.rvprior at 0x1228a5c80>}\n",
      "Had to remove object priorfn from return dictionary, as it was not pickleable.\n",
      "{'z': <function get_evidence.<locals>.zprior at 0x1228af0d0>, 'rv': <function get_evidence.<locals>.rvprior at 0x1228a5d90>}\n",
      "Had to remove object priorfn from return dictionary, as it was not pickleable.\n",
      "{'z': <function get_evidence.<locals>.zprior at 0x1228af0d0>, 'rv': <function get_evidence.<locals>.rvprior at 0x1228a5b70>}\n",
      "Had to remove object priorfn from return dictionary, as it was not pickleable.\n",
      "{'z': <function get_evidence.<locals>.zprior at 0x1228af0d0>, 'rv': <function get_evidence.<locals>.rvprior at 0x1228a5730>}\n",
      "Had to remove object priorfn from return dictionary, as it was not pickleable.\n",
      "{'z': <function get_evidence.<locals>.zprior at 0x1228af0d0>, 'rv': <function get_evidence.<locals>.rvprior at 0x1228a5b70>}\n",
      "Had to remove object priorfn from return dictionary, as it was not pickleable.\n",
      "{'z': <function get_evidence.<locals>.zprior at 0x1228af0d0>, 'rv': <function get_evidence.<locals>.rvprior at 0x1228a5730>}\n",
      "Had to remove object priorfn from return dictionary, as it was not pickleable.\n",
      "{'z': <function get_evidence.<locals>.zprior at 0x12288ff28>, 'rv': <function get_evidence.<locals>.rvprior at 0x12288fbf8>}\n",
      "Had to remove object priorfn from return dictionary, as it was not pickleable.\n",
      "{'z': <function get_evidence.<locals>.zprior at 0x1228af0d0>, 'rv': <function get_evidence.<locals>.rvprior at 0x1228a5c80>}\n",
      "Had to remove object priorfn from return dictionary, as it was not pickleable.\n",
      "{'z': <function get_evidence.<locals>.zprior at 0x1228af0d0>, 'rv': <function get_evidence.<locals>.rvprior at 0x1228a5c80>}\n",
      "Had to remove object priorfn from return dictionary, as it was not pickleable.\n",
      "{'z': <function get_evidence.<locals>.zprior at 0x1228af0d0>, 'rv': <function get_evidence.<locals>.rvprior at 0x1228a5b70>}\n",
      "Had to remove object priorfn from return dictionary, as it was not pickleable.\n",
      "{'z': <function get_evidence.<locals>.zprior at 0x1228af0d0>, 'rv': <function get_evidence.<locals>.rvprior at 0x1228a5c80>}\n",
      "Had to remove object priorfn from return dictionary, as it was not pickleable.\n"
     ]
    }
   ],
   "source": [
    "classify_cal = classify.classify(caligula,zhost=1.68,zhosterr=0.15,zminmax=[1.53,1.83],maxiter=1000,verbose=False)"
   ]
  },
  {
   "cell_type": "code",
   "execution_count": 5,
   "metadata": {},
   "outputs": [
    {
     "name": "stdout",
     "output_type": "stream",
     "text": [
      "/Users/kyleoconnor/anaconda2/envs/sd2/lib/python3.7/site-packages/starDust2-1.0-py3.7.egg/starDust2/__init__.py\n"
     ]
    }
   ],
   "source": [
    "import starDust2\n",
    "print(starDust2.__file__)\n",
    "print(classify.__file__)"
   ]
  },
  {
   "cell_type": "code",
   "execution_count": 4,
   "metadata": {},
   "outputs": [
    {
     "name": "stdout",
     "output_type": "stream",
     "text": [
      "snana-2006ez\n",
      "original probabilities:pIa ~ 1.13e-01, pIb/c ~ 5.99e-04, pII ~ 8.87e-01\n",
      "log-likelihoods:{'II': -20.967852737254137, 'Ibc': -28.268466627553856, 'Ia': -23.032003894403264}\n",
      "z 1.7028451160114222 +- 0.08421283842236917\n",
      "t0 55553.70962729754 +- 12.339085810498167\n",
      "amplitude 6.528331744525058e-20 +- 4.279942223991119e-20\n",
      "hostebv 0.12982495658773469 +- 0.14297840364738756\n",
      "hostr_v 3.0153938006790337 +- 0.5768768210315381\n"
     ]
    }
   ],
   "source": [
    "print(classify_cal['bestmodel'])\n",
    "print('original probabilities:pIa ~ {:.2e}, pIb/c ~ {:.2e}, pII ~ {:.2e}'.format(classify_cal['pIa'],classify_cal['pIbc'],classify_cal['pII']))\n",
    "print('log-likelihoods:{}'.format(classify_cal['logztype']))\n",
    "for param in classify_cal['snana-2006ix']['res']['param_dict']:\n",
    "    print(param,classify_cal['snana-2006ix']['res']['param_dict'][param], '+-', classify_cal['snana-2006ix']['res']['errors'][param])\n"
   ]
  },
  {
   "cell_type": "code",
   "execution_count": 86,
   "metadata": {},
   "outputs": [
    {
     "data": {
      "image/png": "[encoded data removed]",
      "text/plain": [
       "<Figure size 432x288 with 1 Axes>"
      ]
     },
     "metadata": {
      "needs_background": "light"
     },
     "output_type": "display_data"
    }
   ],
   "source": [
    "import numpy as np\n",
    "import matplotlib.pyplot as plt\n",
    "import sncosmo\n",
    "%matplotlib inline\n",
    "\n",
    "data = classify_cal['snana-2006ez']['sn']\n",
    "\n",
    "# need to use sncosmo normalize to take flux data from the zp \n",
    "# and shift it to corresponding flux for model zp ~ 25\n",
    "d2 = sncosmo.photdata.photometric_data(data[data['band'] == 'F125W'])\n",
    "d2 = d2.normalized(zp=25,zpsys= 'vega')\n",
    "\n",
    "errs = data[data['band']=='F125W']['magerr']\n",
    "\n",
    "param_dict = classify_cal['snana-2006ez']['res']['param_dict']\n",
    "dust = sncosmo.CCM89Dust()\n",
    "model = sncosmo.Model(source='snana-2006ez',\n",
    "                      effects=[dust],effect_names=['host'],effect_frames=['rest'])\n",
    "model.set(**param_dict)\n",
    "\n",
    "\n",
    "t0 = param_dict['t0']\n",
    "time = np.linspace(model.mintime(),model.maxtime(),1000)\n",
    "plt.plot(time,model.bandmag('F125W','vega',time))\n",
    "#plt.plot(data[data['band']=='F125W']['time'],data[data['band']=='F125W']['flux2'],'o')\n",
    "plt.errorbar(d2.time,-2.5*np.log10(d2.flux)+25,yerr= errs,fmt = 'o')\n",
    "\n",
    "plt.gca().invert_yaxis()"
   ]
  },
  {
   "cell_type": "code",
   "execution_count": 3,
   "metadata": {},
   "outputs": [],
   "source": [
    "!pip freeze>requirements.txt"
   ]
  },
  {
   "cell_type": "code",
   "execution_count": 4,
   "metadata": {},
   "outputs": [
    {
     "name": "stdout",
     "output_type": "stream",
     "text": [
      "Collecting sncosmo\n",
      "Requirement already satisfied, skipping upgrade: numpy>=1.7.0 in /Users/kyleoconnor/anaconda2/envs/sd2/lib/python3.7/site-packages (from sncosmo) (1.16.4)\n",
      "Requirement already satisfied, skipping upgrade: astropy>=1.0.0 in /Users/kyleoconnor/anaconda2/envs/sd2/lib/python3.7/site-packages/astropy-3.2-py3.7-macosx-10.7-x86_64.egg (from sncosmo) (3.2)\n",
      "Requirement already satisfied, skipping upgrade: scipy>=0.9.0 in /Users/kyleoconnor/anaconda2/envs/sd2/lib/python3.7/site-packages (from sncosmo) (1.3.0)\n",
      "Requirement already satisfied, skipping upgrade: extinction>=0.2.2 in /Users/kyleoconnor/anaconda2/envs/sd2/lib/python3.7/site-packages (from sncosmo) (0.4.0)\n",
      "Installing collected packages: sncosmo\n",
      "  Found existing installation: sncosmo 1.6.0\n",
      "    Uninstalling sncosmo-1.6.0:\n",
      "      Successfully uninstalled sncosmo-1.6.0\n",
      "Successfully installed sncosmo-2.0.0\n"
     ]
    }
   ],
   "source": [
    "!pip install --upgrade sncosmo"
   ]
  },
  {
   "cell_type": "code",
   "execution_count": 3,
   "metadata": {},
   "outputs": [
    {
     "name": "stdout",
     "output_type": "stream",
     "text": [
      "Collecting git+https://github.com/sncosmo/sncosmo.git\n",
      "  Cloning https://github.com/sncosmo/sncosmo.git to /private/var/folders/xj/6c26g8zd2qj251qw1bvzf5hm0000gq/T/pip-req-build-pd5hrt0v\n",
      "  Running command git clone -q https://github.com/sncosmo/sncosmo.git /private/var/folders/xj/6c26g8zd2qj251qw1bvzf5hm0000gq/T/pip-req-build-pd5hrt0v\n",
      "  Installing build dependencies ... \u001b[?25ldone\n",
      "\u001b[?25h  Getting requirements to build wheel ... \u001b[?25ldone\n",
      "\u001b[?25h    Preparing wheel metadata ... \u001b[?25ldone\n",
      "\u001b[?25hRequirement already satisfied (use --upgrade to upgrade): sncosmo==2.0.0 from git+https://github.com/sncosmo/sncosmo.git in /Users/kyleoconnor/anaconda2/envs/sd2/lib/python3.7/site-packages\n",
      "Requirement already satisfied: astropy>=1.0.0 in /Users/kyleoconnor/anaconda2/envs/sd2/lib/python3.7/site-packages/astropy-3.2-py3.7-macosx-10.7-x86_64.egg (from sncosmo==2.0.0) (3.2)\n",
      "Requirement already satisfied: scipy>=0.9.0 in /Users/kyleoconnor/anaconda2/envs/sd2/lib/python3.7/site-packages (from sncosmo==2.0.0) (1.3.0)\n",
      "Requirement already satisfied: numpy>=1.7.0 in /Users/kyleoconnor/anaconda2/envs/sd2/lib/python3.7/site-packages (from sncosmo==2.0.0) (1.16.4)\n",
      "Requirement already satisfied: extinction>=0.2.2 in /Users/kyleoconnor/anaconda2/envs/sd2/lib/python3.7/site-packages (from sncosmo==2.0.0) (0.4.0)\n",
      "Building wheels for collected packages: sncosmo\n",
      "  Building wheel for sncosmo (PEP 517) ... \u001b[?25ldone\n",
      "\u001b[?25h  Stored in directory: /private/var/folders/xj/6c26g8zd2qj251qw1bvzf5hm0000gq/T/pip-ephem-wheel-cache-w0z3f5vx/wheels/ab/ad/f4/fe5bd6ff22fd6b23bfd138d5d49d3235bee4ee06ca0bf0799d\n",
      "Successfully built sncosmo\n"
     ]
    }
   ],
   "source": [
    "!pip install git+https://github.com/sncosmo/sncosmo.git\n"
   ]
  },
  {
   "cell_type": "code",
   "execution_count": null,
   "metadata": {},
   "outputs": [
    {
     "name": "stdout",
     "output_type": "stream",
     "text": [
      "Uninstalling sncosmo-2.0.0:\r\n",
      "  Would remove:\r\n",
      "    /Users/kyleoconnor/anaconda2/envs/sd2/lib/python3.7/site-packages/sncosmo-2.0.0.dist-info/*\r\n",
      "    /Users/kyleoconnor/anaconda2/envs/sd2/lib/python3.7/site-packages/sncosmo/*\r\n",
      "Proceed (y/n)? "
     ]
    }
   ],
   "source": [
    "!pip uninstall sncosmo"
   ]
  },
  {
   "cell_type": "code",
   "execution_count": null,
   "metadata": {},
   "outputs": [],
   "source": []
  }
 ],
 "metadata": {
  "kernelspec": {
   "display_name": "Python 3",
   "language": "python",
   "name": "python3"
  },
  "language_info": {
   "codemirror_mode": {
    "name": "ipython",
    "version": 3
   },
   "file_extension": ".py",
   "mimetype": "text/x-python",
   "name": "python",
   "nbconvert_exporter": "python",
   "pygments_lexer": "ipython3",
   "version": "3.7.3"
  }
 },
 "nbformat": 4,
 "nbformat_minor": 2
}
