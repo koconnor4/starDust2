{
 "cells": [
  {
   "cell_type": "code",
   "execution_count": 1,
   "metadata": {},
   "outputs": [
    {
     "name": "stderr",
     "output_type": "stream",
     "text": [
      "WARNING: AstropyDeprecationWarning: astropy.extern.six will be removed in 4.0, use the six module directly if it is still needed [astropy.extern.six]\n"
     ]
    },
    {
     "data": {
      "text/html": [
       "<i>Table length=18</i>\n",
       "<table id=\"table4949633960\" class=\"table-striped table-bordered table-condensed\">\n",
       "<thead><tr><th>time</th><th>band</th><th>flux</th><th>fluxerr</th><th>mag</th><th>magerr</th><th>zpsys</th><th>zp</th><th>abzp</th><th>abmag</th><th>phyflux</th><th>phyfluxerr</th></tr></thead>\n",
       "<thead><tr><th>float64</th><th>str7</th><th>float64</th><th>float64</th><th>float64</th><th>float64</th><th>str4</th><th>float64</th><th>float64</th><th>float64</th><th>float64</th><th>float64</th></tr></thead>\n",
       "<tr><td>55585.1</td><td>F105W</td><td>31.477</td><td>1.073</td><td>23.755</td><td>0.037</td><td>VEGA</td><td>25.61821473265846</td><td>26.268706898769615</td><td>24.405492166111156</td><td>0.0001229627389284696</td><td>377549.17731738725</td></tr>\n",
       "<tr><td>55585.1</td><td>F125W</td><td>43.571</td><td>1.445</td><td>23.402</td><td>0.036</td><td>VEGA</td><td>25.32400263663256</td><td>26.230302473560755</td><td>24.3082998369282</td><td>0.00012980418354776037</td><td>288196.4917975251</td></tr>\n",
       "<tr><td>55585.1</td><td>F160W</td><td>45.415</td><td>2.468</td><td>23.357</td><td>0.059</td><td>VEGA</td><td>24.68896408056596</td><td>25.94585468803969</td><td>24.613890607473735</td><td>7.538297404372303e-05</td><td>157207.5021977093</td></tr>\n",
       "<tr><td>55579.3</td><td>F606W</td><td>2.519</td><td>0.263</td><td>26.491</td><td>0.106</td><td>VEGA</td><td>26.42084919086046</td><td>26.51271401119896</td><td>26.582864820338507</td><td>2.072179207166183e-05</td><td>742039.9911243769</td></tr>\n",
       "<tr><td>55583.4</td><td>F606W</td><td>1.797</td><td>0.262</td><td>26.861</td><td>0.158</td><td>VEGA</td><td>26.42084919086046</td><td>26.51271401119896</td><td>26.952864820338505</td><td>1.4737618548480315e-05</td><td>707338.5235302238</td></tr>\n",
       "<tr><td>55518.9</td><td>F625W</td><td>0.529</td><td>0.431</td><td>27.206</td><td>-9.0</td><td>VEGA</td><td>25.747868210074007</td><td>25.91636910553369</td><td>27.374500895459683</td><td>5.77078533191216e-06</td><td>1752406757.6489818</td></tr>\n",
       "<tr><td>55566.0</td><td>F625W</td><td>7.248</td><td>0.538</td><td>25.349</td><td>0.074</td><td>VEGA</td><td>25.747868210074007</td><td>25.91636910553369</td><td>25.517500895459687</td><td>3.191794479493139e-05</td><td>411182.78073036706</td></tr>\n",
       "<tr><td>55519.0</td><td>F775W</td><td>0.436</td><td>0.594</td><td>26.792</td><td>-9.0</td><td>VEGA</td><td>25.278775708944284</td><td>25.67196931861042</td><td>27.185193609666136</td><td>5.485268853024835e-06</td><td>1137621834.1365945</td></tr>\n",
       "<tr><td>55583.4</td><td>F775W</td><td>12.445</td><td>0.822</td><td>24.762</td><td>0.066</td><td>VEGA</td><td>25.278775708944284</td><td>25.67196931861042</td><td>25.15519360966614</td><td>3.5579342553415544e-05</td><td>268904.4063650241</td></tr>\n",
       "<tr><td>55538.4</td><td>UVF814W</td><td>1.227</td><td>0.547</td><td>26.872</td><td>-9.0</td><td>VEGA</td><td>24.710345517580915</td><td>25.1332498016494</td><td>27.294904284068483</td><td>3.018740923125234e-06</td><td>673947151.7734519</td></tr>\n",
       "<tr><td>55558.5</td><td>UVF814W</td><td>13.191</td><td>0.665</td><td>24.699</td><td>0.049</td><td>VEGA</td><td>24.710345517580915</td><td>25.1332498016494</td><td>25.121904284068485</td><td>2.2337051331847715e-05</td><td>161817.63226831498</td></tr>\n",
       "<tr><td>55579.4</td><td>UVF814W</td><td>17.48</td><td>0.705</td><td>24.394</td><td>0.038</td><td>VEGA</td><td>24.710345517580915</td><td>25.1332498016494</td><td>24.81690428406848</td><td>2.9581884852541343e-05</td><td>163465.40026957463</td></tr>\n",
       "<tr><td>55599.4</td><td>UVF814W</td><td>9.275</td><td>0.696</td><td>25.082</td><td>0.076</td><td>VEGA</td><td>24.710345517580915</td><td>25.1332498016494</td><td>25.504904284068488</td><td>1.5697331945970096e-05</td><td>157843.1874008368</td></tr>\n",
       "<tr><td>55518.9</td><td>F850LP</td><td>2.475</td><td>2.058</td><td>25.768</td><td>-9.0</td><td>VEGA</td><td>24.346142440368492</td><td>24.870978484632303</td><td>26.292836044263815</td><td>5.966843007571187e-06</td><td>481886335.3387332</td></tr>\n",
       "<tr><td>55538.4</td><td>F850LP</td><td>-0.166</td><td>1.571</td><td>25.802</td><td>-9.0</td><td>VEGA</td><td>24.346142440368492</td><td>24.870978484632303</td><td>26.32683604426381</td><td>5.7828857385480946e-06</td><td>481886335.3387332</td></tr>\n",
       "<tr><td>55566.0</td><td>F850LP</td><td>19.934</td><td>1.804</td><td>24.251</td><td>0.091</td><td>VEGA</td><td>24.346142440368492</td><td>24.870978484632303</td><td>24.775836044263816</td><td>2.4129293794614483e-05</td><td>111312.67289186416</td></tr>\n",
       "<tr><td>55613.2</td><td>F850LP</td><td>7.965</td><td>1.414</td><td>25.247</td><td>0.188</td><td>VEGA</td><td>24.346142440368492</td><td>24.870978484632303</td><td>25.77183604426381</td><td>9.641500128095594e-06</td><td>101799.25773163674</td></tr>\n",
       "<tr><td>55621.4</td><td>F850LP</td><td>-0.997</td><td>2.058</td><td>25.677</td><td>-9.0</td><td>VEGA</td><td>24.346142440368492</td><td>24.870978484632303</td><td>26.201836044263814</td><td>6.488504517770585e-06</td><td>481886335.3387332</td></tr>\n",
       "</table>"
      ],
      "text/plain": [
       "<Table length=18>\n",
       "  time    band    flux  ...        phyflux             phyfluxerr    \n",
       "float64   str7  float64 ...        float64              float64      \n",
       "------- ------- ------- ... ---------------------- ------------------\n",
       "55585.1   F105W  31.477 ...  0.0001229627389284696 377549.17731738725\n",
       "55585.1   F125W  43.571 ... 0.00012980418354776037  288196.4917975251\n",
       "55585.1   F160W  45.415 ...  7.538297404372303e-05  157207.5021977093\n",
       "55579.3   F606W   2.519 ...  2.072179207166183e-05  742039.9911243769\n",
       "55583.4   F606W   1.797 ... 1.4737618548480315e-05  707338.5235302238\n",
       "55518.9   F625W   0.529 ...   5.77078533191216e-06 1752406757.6489818\n",
       "55566.0   F625W   7.248 ...  3.191794479493139e-05 411182.78073036706\n",
       "55519.0   F775W   0.436 ...  5.485268853024835e-06 1137621834.1365945\n",
       "55583.4   F775W  12.445 ... 3.5579342553415544e-05  268904.4063650241\n",
       "55538.4 UVF814W   1.227 ...  3.018740923125234e-06  673947151.7734519\n",
       "55558.5 UVF814W  13.191 ... 2.2337051331847715e-05 161817.63226831498\n",
       "55579.4 UVF814W   17.48 ... 2.9581884852541343e-05 163465.40026957463\n",
       "55599.4 UVF814W   9.275 ... 1.5697331945970096e-05  157843.1874008368\n",
       "55518.9  F850LP   2.475 ...  5.966843007571187e-06  481886335.3387332\n",
       "55538.4  F850LP  -0.166 ... 5.7828857385480946e-06  481886335.3387332\n",
       "55566.0  F850LP  19.934 ... 2.4129293794614483e-05 111312.67289186416\n",
       "55613.2  F850LP   7.965 ...  9.641500128095594e-06 101799.25773163674\n",
       "55621.4  F850LP  -0.997 ...  6.488504517770585e-06  481886335.3387332"
      ]
     },
     "execution_count": 1,
     "metadata": {},
     "output_type": "execute_result"
    }
   ],
   "source": [
    "from starDust2 import classify\n",
    "import pickle\n",
    "import os \n",
    "\n",
    "__current_dir = os.path.curdir\n",
    "\n",
    "clashlc = pickle.load(open('/Users/kyleoconnor/Documents/hst_sn/updated/lightcurves/clashlc.pkl','rb'))\n",
    "cla11tib = clashlc[14]\n",
    "cla11tib"
   ]
  },
  {
   "cell_type": "code",
   "execution_count": 2,
   "metadata": {},
   "outputs": [
    {
     "data": {
      "text/plain": [
       "{'SURVEY': ['HST'],\n",
       " 'NICKNAME': ['Tiberius'],\n",
       " 'SNID': ['CLA11Tib'],\n",
       " 'IAUC': ['CLA11Tib'],\n",
       " 'RA': ['42.0042', 'deg'],\n",
       " 'DECL': ['-3.5547', 'deg'],\n",
       " 'MWEBV': ['0.033', 'MW', 'E(B-V)'],\n",
       " 'MAGREF': ['VEGA'],\n",
       " 'REDSHIFT_FINAL': ['1.143', '+-', '0.001'],\n",
       " 'SEARCH_PEAKMJD': ['55566.0'],\n",
       " 'SEARCH_PEAKMJDERR': ['3.0'],\n",
       " 'PEAKMJD': ['55572.0'],\n",
       " 'PEAKMJDERR': ['15.0'],\n",
       " 'FILTERS': ['BVRXIZYJH'],\n",
       " 'NOBS': ['18'],\n",
       " 'NVAR': ['7'],\n",
       " 'PHYFLUX': 'photons/s/cm^2',\n",
       " 'phyflux': 'photons/s/cm^2'}"
      ]
     },
     "execution_count": 2,
     "metadata": {},
     "output_type": "execute_result"
    }
   ],
   "source": [
    "cla11tib.meta"
   ]
  },
  {
   "cell_type": "code",
   "execution_count": 6,
   "metadata": {},
   "outputs": [
    {
     "name": "stdout",
     "output_type": "stream",
     "text": [
      "ko /Users/kyleoconnor/anaconda2/envs/sd2/lib/python3.7/site-packages/pyParz/__init__.py\n"
     ]
    },
    {
     "name": "stderr",
     "output_type": "stream",
     "text": [
      "/Users/kyleoconnor/anaconda2/envs/sd2/lib/python3.7/site-packages/starDust2-1.0-py3.7.egg/starDust2/classify.py:390: RuntimeWarning: divide by zero encountered in log10\n",
      "  mBbins = -2.5*np.log10(  parambins / x0_AB0 )\n"
     ]
    },
    {
     "name": "stdout",
     "output_type": "stream",
     "text": [
      "  <mB> =  22.814 +- 0.121\n",
      "------------------------------\n",
      "dt=390 sec\n",
      "salt2-extended\n",
      "snana-2004fe\n",
      "snana-2004gq\n",
      "snana-sdss004012\n",
      "snana-2006fo\n",
      "snana-sdss014475\n",
      "snana-2006lc\n",
      "snana-04d1la\n",
      "snana-04d4jv\n",
      "snana-2004gv\n",
      "snana-2006ep\n",
      "snana-2007y\n",
      "snana-2004ib\n",
      "snana-2005hm\n",
      "snana-2006jo\n",
      "snana-2007nc\n",
      "snana-2007ms\n",
      "snana-2004hx\n",
      "snana-2005gi\n",
      "snana-2006gq\n",
      "snana-2006kn\n",
      "snana-2006jl\n",
      "snana-2006iw\n",
      "snana-2006kv\n",
      "snana-2006ns\n",
      "snana-2007iz\n",
      "snana-2007nr\n",
      "snana-2007kw\n",
      "snana-2007ky\n",
      "snana-2007lj\n",
      "snana-2007lb\n",
      "snana-2007ll\n",
      "snana-2007nw\n",
      "snana-2007ld\n",
      "snana-2007md\n",
      "snana-2007lz\n",
      "snana-2007lx\n",
      "snana-2007og\n",
      "snana-2007ny\n",
      "snana-2007nv\n",
      "snana-2007pg\n",
      "snana-2006ez\n",
      "snana-2006ix\n"
     ]
    }
   ],
   "source": [
    "classify_tib = classify.classify(cla11tib,zhost=1.14,zhosterr=.02,zminmax=[1.12,1.16],maxiter=1000,verbose=False)"
   ]
  },
  {
   "cell_type": "code",
   "execution_count": 4,
   "metadata": {},
   "outputs": [
    {
     "name": "stdout",
     "output_type": "stream",
     "text": [
      "snana-2004hx\n",
      "original probabilities:pIa ~ 2.28e-03, pIb/c ~ 1.41e-06, pII ~ 9.98e-01\n",
      "log-likelihoods:{'II': -37.04683350590936, 'Ibc': -50.51406437664175, 'Ia': -43.12820584208549}\n",
      "z 1.1448140874693293 +- 0.009468491357998609\n",
      "t0 55557.68136094611 +- 2.5725507009462474\n",
      "amplitude 1.7475768586522084e-16 +- 4.028551058871018e-17\n",
      "hostebv 0.6197288379666974 +- 0.04963318658495381\n",
      "hostr_v 2.319200807010413 +- 0.2753718741939602\n"
     ]
    }
   ],
   "source": [
    "print(classify_tib['bestmodel'])\n",
    "print('original probabilities:pIa ~ {:.2e}, pIb/c ~ {:.2e}, pII ~ {:.2e}'.format(classify_tib['pIa'],classify_tib['pIbc'],classify_tib['pII']))\n",
    "print('log-likelihoods:{}'.format(classify_tib['logztype']))\n",
    "for param in classify_tib['snana-2006ix']['res']['param_dict']:\n",
    "    print(param,classify_tib['snana-2006ix']['res']['param_dict'][param], '+-', classify_tib['snana-2006ix']['res']['errors'][param])\n"
   ]
  },
  {
   "cell_type": "code",
   "execution_count": 5,
   "metadata": {},
   "outputs": [
    {
     "name": "stdout",
     "output_type": "stream",
     "text": [
      "Collecting pyParz==0.0.7\n",
      "  Downloading https://files.pythonhosted.org/packages/1d/42/1ea8b72ad7efe7af8fece68f27fb0ed049f7ac2659f44f8cf596fc08b72d/pyParz-0.0.7-py3-none-any.whl\n",
      "Requirement already satisfied: numpy in /Users/kyleoconnor/anaconda2/envs/sd2/lib/python3.7/site-packages (from pyParz==0.0.7) (1.16.4)\n",
      "Installing collected packages: pyParz\n",
      "  Found existing installation: pyParz 0.0.6\n",
      "    Uninstalling pyParz-0.0.6:\n",
      "      Successfully uninstalled pyParz-0.0.6\n",
      "Successfully installed pyParz-0.0.7\n"
     ]
    }
   ],
   "source": [
    "!pip install pyParz==0.0.7"
   ]
  },
  {
   "cell_type": "code",
   "execution_count": null,
   "metadata": {},
   "outputs": [],
   "source": []
  }
 ],
 "metadata": {
  "kernelspec": {
   "display_name": "Python 3",
   "language": "python",
   "name": "python3"
  },
  "language_info": {
   "codemirror_mode": {
    "name": "ipython",
    "version": 3
   },
   "file_extension": ".py",
   "mimetype": "text/x-python",
   "name": "python",
   "nbconvert_exporter": "python",
   "pygments_lexer": "ipython3",
   "version": "3.7.3"
  }
 },
 "nbformat": 4,
 "nbformat_minor": 2
}
